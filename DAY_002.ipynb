{
 "cells": [
  {
   "cell_type": "code",
   "execution_count": 1,
   "metadata": {},
   "outputs": [
    {
     "name": "stdout",
     "output_type": "stream",
     "text": [
      "<class 'str'>\n",
      "<class 'str'>\n",
      "<class 'str'>\n",
      "<class 'str'>\n",
      "<class 'str'>\n",
      "<class 'str'>\n",
      "<class 'str'>\n",
      "<class 'str'>\n",
      "<class 'str'>\n",
      "<class 'str'>\n"
     ]
    }
   ],
   "source": [
    "# DAY 2: 30 days of python\n",
    "first_name =  \"FARUK\"\n",
    "last_name = \"HUSSAIN\"\n",
    "full_name = first_name + last_name\n",
    "\n",
    "country = \"NIGERIA\"\n",
    "city = \"kano\"\n",
    "age = \"27\"\n",
    "\n",
    "year = \"1995\"\n",
    "is_married = \"TRUE\"\n",
    "is_true = \"YES\"\n",
    "is_light = \"FALSE\"\n",
    "\n",
    "first_name, last_name, age = \"FARUK\",  \"HUSSAIN\", \"27\"\n",
    "\n",
    "print(type(first_name))\n",
    "print(type(last_name))\n",
    "print(type(full_name))\n",
    "print(type(country))\n",
    "print(type(city))\n",
    "print(type(age))\n",
    "print(type(year))\n",
    "print(type(is_married))\n",
    "print(type(is_true))\n",
    "print(type(is_light))\n",
    "\n",
    "\n",
    "\n",
    "\n"
   ]
  },
  {
   "cell_type": "code",
   "execution_count": 4,
   "metadata": {},
   "outputs": [
    {
     "name": "stdout",
     "output_type": "stream",
     "text": [
      "False\n"
     ]
    }
   ],
   "source": [
    "print(len(first_name) == len(last_name))"
   ]
  },
  {
   "cell_type": "code",
   "execution_count": 5,
   "metadata": {},
   "outputs": [
    {
     "name": "stdout",
     "output_type": "stream",
     "text": [
      "9\n",
      "1\n",
      "1.25\n",
      "20\n",
      "1\n",
      "625\n",
      "1\n",
      "2826.0\n",
      "188.4\n"
     ]
    }
   ],
   "source": [
    "num_one = 5\n",
    "num_two = 4\n",
    "total = num_one + num_two\n",
    "print(total)\n",
    "\n",
    "diff = num_one - num_two\n",
    "print(diff)\n",
    "\n",
    "division = num_one / num_two\n",
    "print(division)\n",
    "\n",
    "product = num_one * num_two\n",
    "print(product)\n",
    "\n",
    "remainder = num_one % num_two\n",
    "print(remainder)\n",
    "\n",
    "exp = num_one ** num_two\n",
    "print(exp)\n",
    "\n",
    "floor_division = num_one // num_two\n",
    "print(floor_division)\n",
    "\n",
    "area_of_a_circle = 3.14 * 30 ** 2\n",
    "print(area_of_a_circle)\n",
    "\n",
    "circum_of_circle = 2 * 3.14 * 30\n",
    "print(circum_of_circle)\n",
    "\n",
    "\n",
    "\n"
   ]
  },
  {
   "cell_type": "code",
   "execution_count": 6,
   "metadata": {},
   "outputs": [
    {
     "name": "stdout",
     "output_type": "stream",
     "text": [
      "faruk\n",
      "hussain\n",
      "28\n"
     ]
    }
   ],
   "source": [
    "first_name = input(\"enter your first name: \")\n",
    "print(first_name)\n",
    "\n",
    "last_name = input(\"enter your last name:  \")\n",
    "print(last_name)\n",
    "\n",
    "age = input(\"how old are?\")\n",
    "print(age)\n",
    "\n",
    "\n"
   ]
  },
  {
   "cell_type": "code",
   "execution_count": 7,
   "metadata": {},
   "outputs": [
    {
     "name": "stdout",
     "output_type": "stream",
     "text": [
      "\n",
      "Here is a list of the Python keywords.  Enter any keyword to get more help.\n",
      "\n",
      "False               break               for                 not\n",
      "None                class               from                or\n",
      "True                continue            global              pass\n",
      "__peg_parser__      def                 if                  raise\n",
      "and                 del                 import              return\n",
      "as                  elif                in                  try\n",
      "assert              else                is                  while\n",
      "async               except              lambda              with\n",
      "await               finally             nonlocal            yield\n",
      "\n"
     ]
    }
   ],
   "source": [
    "help(\"keywords\")"
   ]
  }
 ],
 "metadata": {
  "kernelspec": {
   "display_name": "base",
   "language": "python",
   "name": "python3"
  },
  "language_info": {
   "codemirror_mode": {
    "name": "ipython",
    "version": 3
   },
   "file_extension": ".py",
   "mimetype": "text/x-python",
   "name": "python",
   "nbconvert_exporter": "python",
   "pygments_lexer": "ipython3",
   "version": "3.9.13"
  },
  "orig_nbformat": 4,
  "vscode": {
   "interpreter": {
    "hash": "222965bc068ef7c442cf9d97d39cb219d941bf151a7d2392a0b2c8fb3b71bd3f"
   }
  }
 },
 "nbformat": 4,
 "nbformat_minor": 2
}
