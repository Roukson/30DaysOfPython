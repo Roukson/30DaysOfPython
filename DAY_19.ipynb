{
 "cells": [
  {
   "attachments": {},
   "cell_type": "markdown",
   "metadata": {},
   "source": [
    "DAY 19"
   ]
  },
  {
   "cell_type": "code",
   "execution_count": 3,
   "metadata": {},
   "outputs": [],
   "source": [
    "import sys\n",
    "\n",
    "sys.path.append(\"data\")\n",
    "import os\n",
    "import json\n",
    "import re\n",
    "from collections import Counter\n",
    "import string\n",
    "import math\n",
    "import csv\n",
    "\n",
    "\n",
    "def counter(fname):\n",
    "    num_words = 0\n",
    "    num_lines = 0\n",
    "\n",
    "    with open(fname, \"r\") as f:\n",
    "        for line in f:\n",
    "            line = line.strip(os.linesep)\n",
    "            wordslist = line.split()\n",
    "            num_lines = num_lines + 1\n",
    "            num_words = num_words + len(wordslist)\n",
    "    print(\"Number of words in text file: \", num_words)\n",
    "\n",
    "    print(\"Number of lines in text file: \", num_lines)\n"
   ]
  },
  {
   "cell_type": "code",
   "execution_count": 9,
   "metadata": {},
   "outputs": [],
   "source": [
    "def list_of_words(fname):\n",
    "    output = []\n",
    "    with open(fname, \"r\", encoding=\"UTF8\") as file:\n",
    "        for line in file:\n",
    "            for word in line.split():\n",
    "                output.append(word)\n",
    "    return list(set(output))\n",
    "\n",
    "\n",
    "def check_email(word):\n",
    "    if re.fullmatch(r\"\\b[A-Za-z0-9._%+-]+@[A-Za-z0-9.-]+\\.[A-Z|a-z]{2,}\\b\", word):\n",
    "        return True\n",
    "    else:\n",
    "        return False\n",
    "\n",
    "\n",
    "\n",
    "def extract_emails(fname):\n",
    "    words = list_of_words(fname)\n",
    "    email_list = []\n",
    "\n",
    "    for word in words:\n",
    "        if check_email(word):\n",
    "            email_list.append(word)\n",
    "\n",
    "    return email_list\n",
    "\n",
    "\n",
    "def find_most_common_words(fname, value):\n",
    "    text = open(fname).read()\n",
    "    split_it = text.split()\n",
    "    Cnter = [(sub[1], sub[0]) for sub in Counter(split_it).most_common()]\n",
    "\n",
    "    return Cnter[:value]\n",
    "\n",
    "\n",
    "\n",
    "def clean_text(text):\n",
    "    text = text.lower()\n",
    "    text = re.sub(\"\\[.*?]\", \"\", text)\n",
    "    text = re.sub(\"https?://\\S+|www\\.\\S+\", \"\", text)\n",
    "    text = re.sub(\"<.*?>+\", \"\", text)\n",
    "    text = re.sub(\"[%s]\" % re.escape(string.punctuation), \"\", text)\n",
    "    text = re.sub(\"\\n\", \"\", text)\n",
    "    text = re.sub(\"\\w*\\d\\w*\", \"\", text)\n",
    "    return text\n"
   ]
  }
 ],
 "metadata": {
  "kernelspec": {
   "display_name": "base",
   "language": "python",
   "name": "python3"
  },
  "language_info": {
   "codemirror_mode": {
    "name": "ipython",
    "version": 3
   },
   "file_extension": ".py",
   "mimetype": "text/x-python",
   "name": "python",
   "nbconvert_exporter": "python",
   "pygments_lexer": "ipython3",
   "version": "3.9.13"
  },
  "orig_nbformat": 4,
  "vscode": {
   "interpreter": {
    "hash": "222965bc068ef7c442cf9d97d39cb219d941bf151a7d2392a0b2c8fb3b71bd3f"
   }
  }
 },
 "nbformat": 4,
 "nbformat_minor": 2
}
