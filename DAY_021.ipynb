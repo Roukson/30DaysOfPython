{
 "cells": [
  {
   "attachments": {},
   "cell_type": "markdown",
   "metadata": {},
   "source": [
    "DAY 21\n"
   ]
  },
  {
   "cell_type": "code",
   "execution_count": 4,
   "metadata": {},
   "outputs": [
    {
     "name": "stdout",
     "output_type": "stream",
     "text": [
      "155500\n",
      "24500\n",
      "Rishabh Agrawal is the person's name. Their income is 155500 and their expense is 24500.\n",
      "{'Salary': 150000, 'Bonus': 5500, 'Birthday': 5000, 'Diwali': 2500}\n",
      "{'Rent': 20000, 'Fuel': 5000, 'General': 4500, 'Tax': 2500}\n",
      "131000\n"
     ]
    }
   ],
   "source": [
    "import statistics as stat\n",
    "\n",
    "\n",
    "class Statistics:\n",
    "    def __init__(self, ages):\n",
    "        self.array = ages\n",
    "\n",
    "    def getData(self):\n",
    "        return self.array\n",
    "\n",
    "    def count(self):\n",
    "        return len(self.array)\n",
    "\n",
    "    def sum(self):\n",
    "        return sum(self.array)\n",
    "\n",
    "    def min(self):\n",
    "        return min(self.array)\n",
    "\n",
    "    def max(self):\n",
    "        return max(self.array)\n",
    "\n",
    "    def range(self):\n",
    "        return max(self.array) - min(self.array)\n",
    "\n",
    "    def mean(self):\n",
    "        return stat.mean(self.array)\n",
    "\n",
    "    def median(self):\n",
    "        return stat.median(self.array)\n",
    "\n",
    "    def mode(self):\n",
    "        mode_value = stat.mode(self.array)\n",
    "        return {'mode': mode_value, 'count': self.array.count(mode_value)}\n",
    "\n",
    "    def std(self):\n",
    "        return stat.stdev(self.array)\n",
    "\n",
    "    def var(self):\n",
    "        return stat.variance(self.array)\n",
    "\n",
    "    def freq_dist(self):\n",
    "        return sorted([(self.array.count(i) * 4.0, i) for i in set(self.array)], reverse=True)\n",
    "\n",
    "    def describe(self):\n",
    "        return 'Count: %d\\nSum: %d\\nMin: %d\\nMax: %d\\nRange: %d\\nMean: %d\\nMedian: %d\\nMode: %s\\nStandard Deviation: ' \\\n",
    "               '%.2f\\nVariance: %.2f\\nFrequency Distribution: %s' % (\n",
    "                   self.count(), self.sum(), self.min(), self.max(), self.range(), self.mean(), self.median(),\n",
    "                   self.mode(),\n",
    "                   self.std(), self.var(), self.freq_dist())\n",
    "\n",
    "\n",
    "# data = Statistics(ages = [31, 26, 34, 37, 27, 26, 32, 32, 26, 27, 27, 24, 32, 33, 27, 25, 26, 38, 37, 31, 34, 24,\n",
    "# 33, 29, 26]) print(data.describe())\n",
    "\n",
    "class PersonAccount:\n",
    "    def __init__(self, firstname, lastname, incomes, expenses):\n",
    "        self.firstname = firstname\n",
    "        self.lastname = lastname\n",
    "        self.incomes = incomes\n",
    "        self.expenses = expenses\n",
    "\n",
    "    def total_income(self):\n",
    "        return sum(self.incomes.values())\n",
    "\n",
    "    def total_expense(self):\n",
    "        return sum(self.expenses.values())\n",
    "\n",
    "    def account_info(self):\n",
    "        return \"%s %s is the person's name. Their income is %d and their expense is %d.\" % (\n",
    "            self.firstname, self.lastname, self.total_income(), self.total_expense())\n",
    "\n",
    "    def add_income(self, data):\n",
    "        for k, v in data.items():\n",
    "            self.incomes[k] = v\n",
    "        return dict(sorted(self.incomes.items(), key=lambda x: x[1], reverse=True))\n",
    "\n",
    "    def add_expense(self, data):\n",
    "        for k, v in data.items():\n",
    "            self.expenses[k] = v\n",
    "        return dict(sorted(self.expenses.items(), key=lambda x: x[1], reverse=True))\n",
    "\n",
    "    def account_balance(self):\n",
    "        return self.total_income() - self.total_expense()\n",
    "\n",
    "\n",
    "\n",
    "me = PersonAccount('Rishabh', 'Agrawal', {'Salary': 150000, 'Bonus': 5500}, {'Rent': 20000, 'General': 4500})\n",
    "print(me.total_income())\n",
    "print(me.total_expense())\n",
    "print(me.account_info())\n",
    "print(me.add_income({'Diwali': 2500, 'Birthday': 5000}))\n",
    "print(me.add_expense({'Tax': 2500, 'Fuel': 5000}))\n",
    "print(me.account_balance())\n"
   ]
  }
 ],
 "metadata": {
  "kernelspec": {
   "display_name": "base",
   "language": "python",
   "name": "python3"
  },
  "language_info": {
   "codemirror_mode": {
    "name": "ipython",
    "version": 3
   },
   "file_extension": ".py",
   "mimetype": "text/x-python",
   "name": "python",
   "nbconvert_exporter": "python",
   "pygments_lexer": "ipython3",
   "version": "3.9.13"
  },
  "orig_nbformat": 4,
  "vscode": {
   "interpreter": {
    "hash": "222965bc068ef7c442cf9d97d39cb219d941bf151a7d2392a0b2c8fb3b71bd3f"
   }
  }
 },
 "nbformat": 4,
 "nbformat_minor": 2
}
