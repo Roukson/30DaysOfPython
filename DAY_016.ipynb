{
 "cells": [
  {
   "attachments": {},
   "cell_type": "markdown",
   "metadata": {},
   "source": [
    "DAY 16"
   ]
  },
  {
   "cell_type": "code",
   "execution_count": 1,
   "metadata": {},
   "outputs": [
    {
     "name": "stdout",
     "output_type": "stream",
     "text": [
      "21 10 13 2 1676974439.110543 2023\n",
      "02/21/2023, 10:13:59\n",
      "2019-12-05 00:00:00\n",
      "103 days, 0:00:00\n",
      "-18890 days, 0:00:00\n"
     ]
    }
   ],
   "source": [
    "from datetime import datetime\n",
    "from datetime import date\n",
    "\n",
    "now = datetime.now()\n",
    "curr_day = now.day\n",
    "curr_month = now.month\n",
    "curr_year = now.year\n",
    "curr_hour = now.hour\n",
    "curr_min = now.minute\n",
    "curr_tstamp = now.timestamp()\n",
    "print(curr_day, curr_hour, curr_min, curr_month, curr_tstamp, curr_year)\n",
    "\n",
    "t = now.strftime(\"%m/%d/%Y, %H:%M:%S\")\n",
    "print(t)\n",
    "\n",
    "date_str = \"5 December, 2019\"\n",
    "date_obj = datetime.strptime(date_str, \"%d %B, %Y\")\n",
    "print(date_obj)\n",
    "\n",
    "new_year = date(year = 2022, month = 1, day = 1)\n",
    "today = date(year = 2021, month = 9, day = 20)\n",
    "jan_1970 = date(year = 1970, month = 1, day = 1)\n",
    "diff = new_year - today\n",
    "diff2 =-(today - jan_1970) \n",
    "print(diff)\n",
    "print(diff2)"
   ]
  }
 ],
 "metadata": {
  "kernelspec": {
   "display_name": "base",
   "language": "python",
   "name": "python3"
  },
  "language_info": {
   "codemirror_mode": {
    "name": "ipython",
    "version": 3
   },
   "file_extension": ".py",
   "mimetype": "text/x-python",
   "name": "python",
   "nbconvert_exporter": "python",
   "pygments_lexer": "ipython3",
   "version": "3.9.13"
  },
  "orig_nbformat": 4,
  "vscode": {
   "interpreter": {
    "hash": "222965bc068ef7c442cf9d97d39cb219d941bf151a7d2392a0b2c8fb3b71bd3f"
   }
  }
 },
 "nbformat": 4,
 "nbformat_minor": 2
}
