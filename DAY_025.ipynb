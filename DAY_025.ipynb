{
 "cells": [
  {
   "attachments": {},
   "cell_type": "markdown",
   "metadata": {},
   "source": [
    "DAY 25"
   ]
  },
  {
   "cell_type": "code",
   "execution_count": null,
   "metadata": {},
   "outputs": [],
   "source": [
    "import pandas as pd\n",
    "\n",
    "df = pd.read_csv(r'data\\hacker_news.csv')\n",
    "\n",
    "first_5_rows = df.head()\n",
    "# print(first_5_rows)\n",
    "\n",
    "last_5_rows = df.tail()\n",
    "# print(last_5_rows)\n",
    "\n",
    "title_series = df.iloc[:,2]\n",
    "# print(title_series)\n",
    "\n",
    "# print(df.shape)\n",
    "\n",
    "python_title = df.loc[df['title'].str.contains('Python', case=False)]\n",
    "# print(python_title)\n",
    "\n",
    "js_title = df.loc[df['title'].str.contains('JavaScript', case=False)]\n",
    "# print(js_title)\n",
    "\n",
    "# print(df.describe())"
   ]
  }
 ],
 "metadata": {
  "kernelspec": {
   "display_name": "base",
   "language": "python",
   "name": "python3"
  },
  "language_info": {
   "codemirror_mode": {
    "name": "ipython",
    "version": 3
   },
   "file_extension": ".py",
   "mimetype": "text/x-python",
   "name": "python",
   "nbconvert_exporter": "python",
   "pygments_lexer": "ipython3",
   "version": "3.9.13"
  },
  "orig_nbformat": 4
 },
 "nbformat": 4,
 "nbformat_minor": 2
}
