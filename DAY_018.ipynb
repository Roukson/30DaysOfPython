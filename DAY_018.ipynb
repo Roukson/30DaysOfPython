{
 "cells": [
  {
   "attachments": {},
   "cell_type": "markdown",
   "metadata": {},
   "source": [
    "DAY 18"
   ]
  },
  {
   "cell_type": "code",
   "execution_count": 3,
   "metadata": {},
   "outputs": [
    {
     "name": "stdout",
     "output_type": "stream",
     "text": [
      "[('you', 5),\n",
      " ('love', 4),\n",
      " ('can', 3),\n",
      " ('I', 2),\n",
      " ('do', 2),\n",
      " ('not', 2),\n",
      " ('what', 2),\n",
      " ('else', 2),\n",
      " ('love.', 2),\n",
      " ('teaching.', 1),\n",
      " ('If', 1),\n",
      " ('teaching', 1),\n",
      " ('Python', 1),\n",
      " ('if', 1),\n",
      " ('something', 1),\n",
      " ('which', 1),\n",
      " ('give', 1),\n",
      " ('all', 1),\n",
      " ('the', 1),\n",
      " ('capabilities', 1),\n",
      " ('to', 1),\n",
      " ('develop', 1),\n",
      " ('an', 1),\n",
      " ('application', 1)]\n",
      "True\n",
      "False\n"
     ]
    }
   ],
   "source": [
    "import re\n",
    "import string\n",
    "from collections import Counter\n",
    "from pprint import pprint\n",
    "\n",
    "paragraph = \"I love teaching. If you do not love teaching what else can you love. I love Python if you do not love \" \\\n",
    "            \"something which can give you all the capabilities to develop an application what else can you love. \"\n",
    "\n",
    "\n",
    "def most_common_words(text):\n",
    "    split_it = text.split()\n",
    "    Cnter = Counter(split_it).most_common()\n",
    "    return Cnter\n",
    "\n",
    "\n",
    "\n",
    "pprint(most_common_words(paragraph))\n",
    "\n",
    "\n",
    "\n",
    "def is_valid_variable(potential_variable):\n",
    "    if re.search(r\"^[a-zA-Z_]\\w*$\", potential_variable):\n",
    "        return True\n",
    "    else:\n",
    "        return False\n",
    "\n",
    "\n",
    "pprint(is_valid_variable(\"first_name\"))\n",
    "pprint(is_valid_variable(\"first-name\"))"
   ]
  },
  {
   "attachments": {},
   "cell_type": "markdown",
   "metadata": {},
   "source": [
    "EXERCISE 3"
   ]
  },
  {
   "cell_type": "code",
   "execution_count": 4,
   "metadata": {},
   "outputs": [
    {
     "name": "stdout",
     "output_type": "stream",
     "text": [
      "('i am a teacher and i love teaching there is nothing as more rewarding as '\n",
      " 'educating and empowering people i found teaching more interesting than any '\n",
      " 'other jobs does this motivate you to be a teacher ')\n",
      "[('i', 3), ('a', 2), ('teacher', 2)]\n"
     ]
    }
   ],
   "source": [
    "sentence = \"\"\"%I $am@% a %tea@cher%, &and& I lo%#ve %tea@ching%;. There $is nothing; &as& mo@re rewarding as \n",
    "educa@ting &and& @emp%o@wering peo@ple. ;I found tea@ching m%o@re interesting tha@n any other %jo@bs. %Do@es thi%s \n",
    "mo@tivate yo@u to be a tea@cher!? \"\"\"\n",
    "\n",
    "\n",
    "def clean_text(text):\n",
    "    text = text.lower()\n",
    "    text = re.sub(\"\\[.*?]\", \"\", text)\n",
    "    text = re.sub(\"https?://\\S+|www\\.\\S+\", \"\", text)\n",
    "    text = re.sub(\"<.*?>+\", \"\", text)\n",
    "    text = re.sub(\"[%s]\" % re.escape(string.punctuation), \"\", text)\n",
    "    text = re.sub(\"\\n\", \"\", text)\n",
    "    text = re.sub(\"\\w*\\d\\w*\", \"\", text)\n",
    "    return text\n",
    "\n",
    "\n",
    "pprint(clean_text(sentence))\n",
    "pprint(most_common_words(clean_text(sentence))[:3])"
   ]
  }
 ],
 "metadata": {
  "kernelspec": {
   "display_name": "base",
   "language": "python",
   "name": "python3"
  },
  "language_info": {
   "codemirror_mode": {
    "name": "ipython",
    "version": 3
   },
   "file_extension": ".py",
   "mimetype": "text/x-python",
   "name": "python",
   "nbconvert_exporter": "python",
   "pygments_lexer": "ipython3",
   "version": "3.9.13"
  },
  "orig_nbformat": 4,
  "vscode": {
   "interpreter": {
    "hash": "222965bc068ef7c442cf9d97d39cb219d941bf151a7d2392a0b2c8fb3b71bd3f"
   }
  }
 },
 "nbformat": 4,
 "nbformat_minor": 2
}
