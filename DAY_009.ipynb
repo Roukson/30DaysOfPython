{
 "cells": [
  {
   "cell_type": "code",
   "execution_count": 4,
   "metadata": {},
   "outputs": [
    {
     "name": "stdout",
     "output_type": "stream",
     "text": [
      "you have to wait for 4 more years\n"
     ]
    }
   ],
   "source": [
    "age = int(input('enter your age: '))\n",
    "years_to_wait =  18 - age\n",
    "if age >= 18:\n",
    "    print('you are old enough to drive')\n",
    "else:\n",
    "    print('you have to wait for', years_to_wait, 'more years')\n",
    "\n"
   ]
  },
  {
   "cell_type": "code",
   "execution_count": 10,
   "metadata": {},
   "outputs": [
    {
     "name": "stdout",
     "output_type": "stream",
     "text": [
      "i am 11 older than you: \n"
     ]
    }
   ],
   "source": [
    "my_age = int(input('enter your age: '))\n",
    "your_age = int(input('enter your age: '))\n",
    "age_difference = my_age - your_age\n",
    "if my_age > your_age:\n",
    "    print('i am', age_difference, 'older than you: ')\n",
    "elif your_age > my_age:\n",
    "    print('you are', age_difference, 'older than me') \n",
    "else:\n",
    "    print('we are of the same age')          "
   ]
  },
  {
   "cell_type": "code",
   "execution_count": 13,
   "metadata": {},
   "outputs": [
    {
     "name": "stdout",
     "output_type": "stream",
     "text": [
      "8 is equal 8\n"
     ]
    }
   ],
   "source": [
    "a = int(input('enter a number: '))\n",
    "b = int(input('enter a number: '))(\n",
    "if a > b:\n",
    "    print(a, 'is greater than', b)\n",
    "elif b > a:)\n",
    "    print(b, 'is greater than', a) \n",
    "else:\n",
    "    print(a, 'is equal', b)   "
   ]
  },
  {
   "cell_type": "code",
   "execution_count": 24,
   "metadata": {},
   "outputs": [
    {
     "name": "stdout",
     "output_type": "stream",
     "text": [
      "B\n"
     ]
    }
   ],
   "source": [
    "grade = int(input('enter your grade: '))\n",
    "\n",
    "if grade >= 80:\n",
    "    print('A')\n",
    "elif grade <= 79:\n",
    "    print('B')\n",
    "elif grade <= 69:\n",
    "    print('C')\n",
    "elif grade <= 60:\n",
    "    print('D')            \n",
    "elif grade <= 49:\n",
    "    print('D')\n",
    "else:\n",
    "    print('your was not recorded')        "
   ]
  }
 ],
 "metadata": {
  "kernelspec": {
   "display_name": "base",
   "language": "python",
   "name": "python3"
  },
  "language_info": {
   "codemirror_mode": {
    "name": "ipython",
    "version": 3
   },
   "file_extension": ".py",
   "mimetype": "text/x-python",
   "name": "python",
   "nbconvert_exporter": "python",
   "pygments_lexer": "ipython3",
   "version": "3.9.13 (main, Aug 25 2022, 23:51:50) [MSC v.1916 64 bit (AMD64)]"
  },
  "orig_nbformat": 4,
  "vscode": {
   "interpreter": {
    "hash": "222965bc068ef7c442cf9d97d39cb219d941bf151a7d2392a0b2c8fb3b71bd3f"
   }
  }
 },
 "nbformat": 4,
 "nbformat_minor": 2
}
