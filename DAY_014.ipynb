{
 "cells": [
  {
   "attachments": {},
   "cell_type": "markdown",
   "metadata": {},
   "source": [
    "excercise 1"
   ]
  },
  {
   "attachments": {},
   "cell_type": "markdown",
   "metadata": {},
   "source": [
    "Explain the difference between map, filter, and reduce"
   ]
  },
  {
   "attachments": {},
   "cell_type": "markdown",
   "metadata": {},
   "source": [
    "The map() function is a built-in function that takes a function and iterable as parameters.\n",
    "Also, The filter() function calls the specified function which returns boolean for each item of the specified iterable (list). It filters the items that satisfy the filtering criteria.\n",
    "while, The reduce() function is defined in the functools module and we should import it from this module. Like map and filter it takes two parameters, a function and an iterable. However, it does not return another iterable, instead it returns a single value."
   ]
  },
  {
   "attachments": {},
   "cell_type": "markdown",
   "metadata": {},
   "source": [
    "\n",
    "'''A higher order function is a function that takes a function as an argument OR returns a function.'''\n",
    "'''A decorator in Python is (typically) an example of a higher-order function, but there are decorators that aren't (\n",
    "class decorators**, and decorators that aren't functions), and there are higher-order functions that aren't \n",
    "decorators, for example those that take two required arguments that are functions. '''\n",
    "'''A Closure is a function object that remembers values in enclosing scopes even if they are not present in memory"
   ]
  },
  {
   "cell_type": "code",
   "execution_count": 8,
   "metadata": {},
   "outputs": [
    {
     "name": "stdout",
     "output_type": "stream",
     "text": [
      "['Asabeneh', 'Ermias', 'Abraham']\n",
      "[1, 8, 27, 64, 125, 216, 343, 512, 729, 1000]\n"
     ]
    }
   ],
   "source": [
    "countries = ['Estonia', 'Finland', 'Sweden', 'Denmark', 'Norway', 'Iceland']\n",
    "\n",
    "names = ['Asabeneh', 'Lidiya', 'Ermias', 'Abraham']\n",
    "\n",
    "numbers = [1, 2, 3, 4, 5, 6, 7, 8, 9, 10]\n",
    "\n",
    "def cube(num):\n",
    "    return num ** 3\n",
    "\n",
    "\n",
    "def vowel_name(name):\n",
    "    if name[0] in 'aeiouAEIOU':\n",
    "        return True\n",
    "    return False \n",
    "       \n",
    "\n",
    "\n",
    "\n",
    "print(list(filter(vowel_name, names)))\n",
    "print(list(map(cube, numbers)))\n"
   ]
  },
  {
   "cell_type": "code",
   "execution_count": 10,
   "metadata": {},
   "outputs": [
    {
     "name": "stdout",
     "output_type": "stream",
     "text": [
      "Estonia\n",
      "Finland\n",
      "Sweden\n",
      "Denmark\n",
      "Norway\n",
      "Iceland\n"
     ]
    }
   ],
   "source": [
    "for i in countries:\n",
    "    print(i)"
   ]
  },
  {
   "cell_type": "code",
   "execution_count": 11,
   "metadata": {},
   "outputs": [
    {
     "name": "stdout",
     "output_type": "stream",
     "text": [
      "Asabeneh\n",
      "Lidiya\n",
      "Ermias\n",
      "Abraham\n"
     ]
    }
   ],
   "source": [
    "for i in names:\n",
    "    print(i)"
   ]
  },
  {
   "cell_type": "code",
   "execution_count": 12,
   "metadata": {},
   "outputs": [
    {
     "name": "stdout",
     "output_type": "stream",
     "text": [
      "1\n",
      "2\n",
      "3\n",
      "4\n",
      "5\n",
      "6\n",
      "7\n",
      "8\n",
      "9\n",
      "10\n"
     ]
    }
   ],
   "source": [
    "for i in numbers:\n",
    "    print(i)\n"
   ]
  },
  {
   "cell_type": "code",
   "execution_count": 13,
   "metadata": {},
   "outputs": [],
   "source": [
    "# Level 2\n",
    "def upper(string):\n",
    "    return string.upper()\n",
    "\n",
    "\n",
    "def square(num):\n",
    "    return num ** 2\n",
    "\n",
    "\n",
    "cap_countries = list(map(upper, countries))\n",
    "square_nums = list(map(square, numbers))\n",
    "upper_names = list(map(upper, names))"
   ]
  },
  {
   "cell_type": "code",
   "execution_count": 15,
   "metadata": {},
   "outputs": [
    {
     "name": "stdout",
     "output_type": "stream",
     "text": [
      "['Finland', 'Iceland']\n",
      "['Sweden', 'Norway']\n",
      "['Estonia', 'Finland', 'Sweden', 'Denmark', 'Norway', 'Iceland']\n",
      "['Estonia']\n",
      "[]\n"
     ]
    }
   ],
   "source": [
    "def land(string):\n",
    "    if 'land' in string:\n",
    "        return True\n",
    "    return False\n",
    "\n",
    "\n",
    "def six(string):\n",
    "    if len(string) == 6:\n",
    "        return True\n",
    "    return False\n",
    "\n",
    "\n",
    "\n",
    "def six_or_more(string):\n",
    "    if len(string) >= 6:\n",
    "        return True\n",
    "    return False\n",
    "\n",
    "\n",
    "def E(string):\n",
    "    if string[0] == 'E':\n",
    "        return True\n",
    "    return False\n",
    "\n",
    "\n",
    "print(list(filter(land, countries)))\n",
    "print(list(filter(six, countries)))\n",
    "print(list(filter(six_or_more, countries)))\n",
    "print(list(filter(E, countries)))\n",
    "\n",
    "print(list(filter(land, list(filter(six, countries)))))"
   ]
  },
  {
   "cell_type": "code",
   "execution_count": 23,
   "metadata": {},
   "outputs": [
    {
     "name": "stdout",
     "output_type": "stream",
     "text": [
      "57\n"
     ]
    }
   ],
   "source": [
    "def sum2(x, y):\n",
    "    return int(x) + int(y)\n",
    "\n",
    "\n",
    "print(sum2(23, 34))"
   ]
  }
 ],
 "metadata": {
  "kernelspec": {
   "display_name": "base",
   "language": "python",
   "name": "python3"
  },
  "language_info": {
   "codemirror_mode": {
    "name": "ipython",
    "version": 3
   },
   "file_extension": ".py",
   "mimetype": "text/x-python",
   "name": "python",
   "nbconvert_exporter": "python",
   "pygments_lexer": "ipython3",
   "version": "3.9.13"
  },
  "orig_nbformat": 4,
  "vscode": {
   "interpreter": {
    "hash": "222965bc068ef7c442cf9d97d39cb219d941bf151a7d2392a0b2c8fb3b71bd3f"
   }
  }
 },
 "nbformat": 4,
 "nbformat_minor": 2
}
