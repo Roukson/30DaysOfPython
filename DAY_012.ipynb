{
 "cells": [
  {
   "attachments": {},
   "cell_type": "markdown",
   "metadata": {},
   "source": [
    "day 12"
   ]
  },
  {
   "cell_type": "code",
   "execution_count": 4,
   "metadata": {},
   "outputs": [],
   "source": [
    "import random\n",
    "\n",
    "chars = 'abcdefghijklmnopqrstuvwxyz1234567890'\n",
    "char_list = []\n",
    "char_list[:0] = chars\n",
    "\n",
    "def random_user_id():\n",
    "    identity = ''\n",
    "    for _ in range(6):\n",
    "        identity += random.choice(char_list)\n",
    "    return identity\n",
    "\n",
    "\n",
    "\n"
   ]
  },
  {
   "cell_type": "code",
   "execution_count": 5,
   "metadata": {},
   "outputs": [],
   "source": [
    "def user_id_gen_by_user():\n",
    "    charsize = int(input('Enter Character Size: '))\n",
    "    charlimit = int(input('Enter how many user ids to generate: '))\n",
    "    for _ in range(charlimit):\n",
    "        identity = ''.join([random.choice(char_list) for _ in range(charsize)])\n",
    "        print(identity)"
   ]
  },
  {
   "cell_type": "code",
   "execution_count": 8,
   "metadata": {},
   "outputs": [
    {
     "name": "stdout",
     "output_type": "stream",
     "text": [
      "rgb(217,166,200)\n"
     ]
    }
   ],
   "source": [
    "def rgb_color_gen():\n",
    "    r = str(random.randint(0, 255))\n",
    "    g = str(random.randint(0, 255))\n",
    "    b = str(random.randint(0, 255))\n",
    "    return \"rgb(\" + r + \",\" + g + \",\" + b + \")\"\n",
    "    \n",
    "print(rgb_color_gen())"
   ]
  }
 ],
 "metadata": {
  "kernelspec": {
   "display_name": "base",
   "language": "python",
   "name": "python3"
  },
  "language_info": {
   "codemirror_mode": {
    "name": "ipython",
    "version": 3
   },
   "file_extension": ".py",
   "mimetype": "text/x-python",
   "name": "python",
   "nbconvert_exporter": "python",
   "pygments_lexer": "ipython3",
   "version": "3.9.13"
  },
  "orig_nbformat": 4,
  "vscode": {
   "interpreter": {
    "hash": "222965bc068ef7c442cf9d97d39cb219d941bf151a7d2392a0b2c8fb3b71bd3f"
   }
  }
 },
 "nbformat": 4,
 "nbformat_minor": 2
}
