{
 "cells": [
  {
   "cell_type": "code",
   "execution_count": 2,
   "metadata": {},
   "outputs": [
    {
     "name": "stdout",
     "output_type": "stream",
     "text": [
      "0\n",
      "1\n",
      "2\n",
      "3\n",
      "4\n",
      "5\n",
      "6\n",
      "7\n",
      "8\n",
      "9\n",
      "10\n"
     ]
    }
   ],
   "source": [
    "numbers = (0,1,2,3,4,5,6,7,8,9,10)\n",
    "\n",
    "for number in  numbers:\n",
    "    print(number)\n",
    "\n",
    "    number + 1;"
   ]
  },
  {
   "cell_type": "code",
   "execution_count": 28,
   "metadata": {},
   "outputs": [
    {
     "name": "stdout",
     "output_type": "stream",
     "text": [
      "0\n",
      "1\n",
      "2\n",
      "3\n",
      "4\n",
      "5\n",
      "6\n",
      "7\n",
      "8\n",
      "9\n",
      "10\n"
     ]
    }
   ],
   "source": [
    "n = 0\n",
    "while n < 11: # while n is less than 10,\n",
    "    print(n) # print out the value of n \n",
    "    n += 1 #"
   ]
  },
  {
   "cell_type": "code",
   "execution_count": 35,
   "metadata": {},
   "outputs": [
    {
     "name": "stdout",
     "output_type": "stream",
     "text": [
      "10\n",
      "9\n",
      "8\n",
      "7\n",
      "6\n",
      "5\n",
      "4\n",
      "3\n",
      "2\n",
      "1\n",
      "0\n"
     ]
    }
   ],
   "source": [
    "numbers = (10,9,8,7,6,5,4,3,2,1,0)\n",
    "\n",
    "for number in  numbers:\n",
    "    print(number)\n",
    "\n",
    "    number - 1;"
   ]
  },
  {
   "cell_type": "code",
   "execution_count": 8,
   "metadata": {},
   "outputs": [
    {
     "name": "stdout",
     "output_type": "stream",
     "text": [
      "10\n",
      "9\n",
      "8\n",
      "7\n",
      "6\n",
      "5\n",
      "4\n",
      "3\n",
      "2\n",
      "1\n",
      "0\n"
     ]
    }
   ],
   "source": [
    "n = 11\n",
    "while n > 0:\n",
    "    n -= 1\n",
    "    print(n)"
   ]
  },
  {
   "cell_type": "code",
   "execution_count": 55,
   "metadata": {},
   "outputs": [
    {
     "name": "stdout",
     "output_type": "stream",
     "text": [
      "0 x 0 = 0\n",
      "1 x 1 = 1\n",
      "2 x 2 = 4\n",
      "3 x 3 = 9\n",
      "4 x 4 = 16\n",
      "5 x 5 = 25\n",
      "6 x 6 = 36\n",
      "7 x 7 = 49\n",
      "8 x 8 = 64\n",
      "9 x 9 = 81\n",
      "10 x 10 = 100\n"
     ]
    }
   ],
   "source": [
    "print('0 x 0 = 0')\n",
    "print('1 x 1 = 1')\n",
    "print('2 x 2 = 4')\n",
    "print('3 x 3 = 9')\n",
    "print('4 x 4 = 16')\n",
    "print('5 x 5 = 25')\n",
    "print('6 x 6 = 36')\n",
    "print('7 x 7 = 49')\n",
    "print('8 x 8 = 64')\n",
    "print('9 x 9 = 81')\n",
    "print('10 x 10 = 100')"
   ]
  },
  {
   "cell_type": "code",
   "execution_count": 1,
   "metadata": {},
   "outputs": [
    {
     "name": "stdout",
     "output_type": "stream",
     "text": [
      "\n",
      "#\n",
      "##\n",
      "###\n",
      "####\n",
      "#####\n",
      "######\n",
      "#######\n"
     ]
    }
   ],
   "source": [
    "for i in range(8):\n",
    "    print('#' * i)"
   ]
  },
  {
   "cell_type": "code",
   "execution_count": 64,
   "metadata": {},
   "outputs": [
    {
     "name": "stdout",
     "output_type": "stream",
     "text": [
      "Python\n",
      "Numpy\n",
      "Pandas\n",
      "Django\n",
      "Flask\n"
     ]
    }
   ],
   "source": [
    "prog_lang = ['Python', 'Numpy','Pandas','Django', 'Flask']\n",
    "for i in prog_lang:\n",
    "    print(i)"
   ]
  },
  {
   "attachments": {},
   "cell_type": "markdown",
   "metadata": {},
   "source": [
    "even numbers"
   ]
  },
  {
   "cell_type": "code",
   "execution_count": 80,
   "metadata": {},
   "outputs": [
    {
     "name": "stdout",
     "output_type": "stream",
     "text": [
      "2\n",
      "number not even\n",
      "4\n",
      "number not even\n",
      "6\n",
      "number not even\n",
      "8\n",
      "number not even\n",
      "10\n",
      "number not even\n",
      "12\n",
      "number not even\n",
      "14\n",
      "number not even\n",
      "16\n",
      "number not even\n",
      "18\n",
      "number not even\n",
      "20\n",
      "number not even\n",
      "22\n",
      "number not even\n",
      "24\n",
      "number not even\n",
      "26\n",
      "number not even\n",
      "28\n",
      "number not even\n",
      "30\n",
      "number not even\n",
      "32\n",
      "number not even\n",
      "34\n",
      "number not even\n",
      "36\n",
      "number not even\n",
      "38\n",
      "number not even\n",
      "40\n",
      "number not even\n",
      "42\n",
      "number not even\n",
      "44\n",
      "number not even\n",
      "46\n",
      "number not even\n",
      "48\n",
      "number not even\n",
      "50\n",
      "number not even\n",
      "52\n",
      "number not even\n",
      "54\n",
      "number not even\n",
      "56\n",
      "number not even\n",
      "58\n",
      "number not even\n",
      "60\n",
      "number not even\n",
      "62\n",
      "number not even\n",
      "64\n",
      "number not even\n",
      "66\n",
      "number not even\n",
      "68\n",
      "number not even\n",
      "70\n",
      "number not even\n",
      "72\n",
      "number not even\n",
      "74\n",
      "number not even\n",
      "76\n",
      "number not even\n",
      "78\n",
      "number not even\n",
      "80\n",
      "number not even\n",
      "82\n",
      "number not even\n",
      "84\n",
      "number not even\n",
      "86\n",
      "number not even\n",
      "88\n",
      "number not even\n",
      "90\n",
      "number not even\n",
      "92\n",
      "number not even\n",
      "94\n",
      "number not even\n",
      "96\n",
      "number not even\n",
      "98\n",
      "number not even\n"
     ]
    }
   ],
   "source": [
    "\n",
    "for i in range(2, 100):\n",
    "    if(i % 2 == 0):\n",
    "        print(i)\n",
    "        i += 2; \n",
    "    else:\n",
    "        print('number not even')\n",
    "\n",
    "  "
   ]
  },
  {
   "cell_type": "code",
   "execution_count": 81,
   "metadata": {},
   "outputs": [
    {
     "name": "stdout",
     "output_type": "stream",
     "text": [
      "number not odd\n",
      "3\n",
      "number not odd\n",
      "5\n",
      "number not odd\n",
      "7\n",
      "number not odd\n",
      "9\n",
      "number not odd\n",
      "11\n",
      "number not odd\n",
      "13\n",
      "number not odd\n",
      "15\n",
      "number not odd\n",
      "17\n",
      "number not odd\n",
      "19\n",
      "number not odd\n",
      "21\n",
      "number not odd\n",
      "23\n",
      "number not odd\n",
      "25\n",
      "number not odd\n",
      "27\n",
      "number not odd\n",
      "29\n",
      "number not odd\n",
      "31\n",
      "number not odd\n",
      "33\n",
      "number not odd\n",
      "35\n",
      "number not odd\n",
      "37\n",
      "number not odd\n",
      "39\n",
      "number not odd\n",
      "41\n",
      "number not odd\n",
      "43\n",
      "number not odd\n",
      "45\n",
      "number not odd\n",
      "47\n",
      "number not odd\n",
      "49\n",
      "number not odd\n",
      "51\n",
      "number not odd\n",
      "53\n",
      "number not odd\n",
      "55\n",
      "number not odd\n",
      "57\n",
      "number not odd\n",
      "59\n",
      "number not odd\n",
      "61\n",
      "number not odd\n",
      "63\n",
      "number not odd\n",
      "65\n",
      "number not odd\n",
      "67\n",
      "number not odd\n",
      "69\n",
      "number not odd\n",
      "71\n",
      "number not odd\n",
      "73\n",
      "number not odd\n",
      "75\n",
      "number not odd\n",
      "77\n",
      "number not odd\n",
      "79\n",
      "number not odd\n",
      "81\n",
      "number not odd\n",
      "83\n",
      "number not odd\n",
      "85\n",
      "number not odd\n",
      "87\n",
      "number not odd\n",
      "89\n",
      "number not odd\n",
      "91\n",
      "number not odd\n",
      "93\n",
      "number not odd\n",
      "95\n",
      "number not odd\n",
      "97\n",
      "number not odd\n",
      "99\n"
     ]
    }
   ],
   "source": [
    "\n",
    "for i in range(2, 100):\n",
    "    if(i % 2 != 0):\n",
    "        print(i)\n",
    "        i += 2; \n",
    "    else:\n",
    "        print('number not odd')\n",
    "\n",
    "  "
   ]
  },
  {
   "attachments": {},
   "cell_type": "markdown",
   "metadata": {},
   "source": [
    "exercise 2"
   ]
  },
  {
   "cell_type": "code",
   "execution_count": 97,
   "metadata": {},
   "outputs": [
    {
     "name": "stdout",
     "output_type": "stream",
     "text": [
      "5050\n"
     ]
    }
   ],
   "source": [
    "sum = 0\n",
    "for i in range(1, 101):\n",
    "    sum = sum + i\n",
    "\n",
    "print(sum)"
   ]
  },
  {
   "attachments": {},
   "cell_type": "markdown",
   "metadata": {},
   "source": [
    "sum of all even numbers"
   ]
  },
  {
   "cell_type": "code",
   "execution_count": 99,
   "metadata": {},
   "outputs": [
    {
     "name": "stdout",
     "output_type": "stream",
     "text": [
      "2550\n"
     ]
    }
   ],
   "source": [
    "sum = 0\n",
    "for i in range(1, 101):\n",
    "    if(i % 2 == 0):\n",
    "        sum = sum + i\n",
    "\n",
    "print(sum)"
   ]
  },
  {
   "attachments": {},
   "cell_type": "markdown",
   "metadata": {},
   "source": [
    "sum of all odd numbers"
   ]
  },
  {
   "cell_type": "code",
   "execution_count": 100,
   "metadata": {},
   "outputs": [
    {
     "name": "stdout",
     "output_type": "stream",
     "text": [
      "2500\n"
     ]
    }
   ],
   "source": [
    "sum = 0\n",
    "for i in range(1, 101):\n",
    "    if(i % 2 != 0):\n",
    "        sum = sum + i\n",
    "\n",
    "print(sum)"
   ]
  }
 ],
 "metadata": {
  "kernelspec": {
   "display_name": "base",
   "language": "python",
   "name": "python3"
  },
  "language_info": {
   "codemirror_mode": {
    "name": "ipython",
    "version": 3
   },
   "file_extension": ".py",
   "mimetype": "text/x-python",
   "name": "python",
   "nbconvert_exporter": "python",
   "pygments_lexer": "ipython3",
   "version": "3.9.13"
  },
  "orig_nbformat": 4,
  "vscode": {
   "interpreter": {
    "hash": "222965bc068ef7c442cf9d97d39cb219d941bf151a7d2392a0b2c8fb3b71bd3f"
   }
  }
 },
 "nbformat": 4,
 "nbformat_minor": 2
}
