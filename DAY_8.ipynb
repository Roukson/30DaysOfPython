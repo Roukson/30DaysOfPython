{
 "cells": [
  {
   "cell_type": "code",
   "execution_count": 2,
   "metadata": {},
   "outputs": [
    {
     "name": "stdout",
     "output_type": "stream",
     "text": [
      "{'name': 'Max', 'color': 'Brown', 'Breed': 'Pitbull', 'legs': 'big', 'age': 5}\n"
     ]
    }
   ],
   "source": [
    "dog = {}\n",
    "dog = {'name':'Max', 'color':'Brown', 'Breed':'Pitbull', 'legs':'big', 'age':5}\n",
    "print(dog)"
   ]
  },
  {
   "cell_type": "code",
   "execution_count": 3,
   "metadata": {},
   "outputs": [
    {
     "data": {
      "text/plain": [
       "9"
      ]
     },
     "execution_count": 3,
     "metadata": {},
     "output_type": "execute_result"
    }
   ],
   "source": [
    "student = {'first_name':'Faruk','last_name':'Hussain','gender':'Male','age':28, 'marital_status':'single','skills':['python','SQL','javascript'],'country':'Nigeria','city':'Kano','address':'naibawa maikalwa'}\n",
    "len(student)"
   ]
  },
  {
   "cell_type": "code",
   "execution_count": 10,
   "metadata": {},
   "outputs": [
    {
     "name": "stdout",
     "output_type": "stream",
     "text": [
      "['python', 'SQL', 'javascript']\n",
      "<class 'list'>\n"
     ]
    }
   ],
   "source": [
    "print(student.get('skills'))\n",
    "print(type(student['skills']))\n"
   ]
  },
  {
   "cell_type": "code",
   "execution_count": 15,
   "metadata": {},
   "outputs": [
    {
     "name": "stdout",
     "output_type": "stream",
     "text": [
      "['python', 'SQL', 'javascript', 'java', 'java', 'java', 'java']\n"
     ]
    }
   ],
   "source": [
    "student['skills'].append('java')\n",
    "print(student.get('skills'))"
   ]
  },
  {
   "cell_type": "code",
   "execution_count": 16,
   "metadata": {},
   "outputs": [
    {
     "data": {
      "text/plain": [
       "['first_name',\n",
       " 'last_name',\n",
       " 'gender',\n",
       " 'age',\n",
       " 'marital_status',\n",
       " 'skills',\n",
       " 'country',\n",
       " 'city',\n",
       " 'address']"
      ]
     },
     "execution_count": 16,
     "metadata": {},
     "output_type": "execute_result"
    }
   ],
   "source": [
    "list(student.keys())"
   ]
  },
  {
   "cell_type": "code",
   "execution_count": 18,
   "metadata": {},
   "outputs": [
    {
     "data": {
      "text/plain": [
       "['Faruk',\n",
       " 'Hussain',\n",
       " 'Male',\n",
       " 28,\n",
       " 'single',\n",
       " ['python', 'SQL', 'javascript', 'java', 'java', 'java', 'java'],\n",
       " 'Nigeria',\n",
       " 'Kano',\n",
       " 'naibawa maikalwa']"
      ]
     },
     "execution_count": 18,
     "metadata": {},
     "output_type": "execute_result"
    }
   ],
   "source": [
    "list(student.values())"
   ]
  },
  {
   "cell_type": "code",
   "execution_count": 19,
   "metadata": {},
   "outputs": [
    {
     "data": {
      "text/plain": [
       "dict_items([('first_name', 'Faruk'), ('last_name', 'Hussain'), ('gender', 'Male'), ('age', 28), ('marital_status', 'single'), ('skills', ['python', 'SQL', 'javascript', 'java', 'java', 'java', 'java']), ('country', 'Nigeria'), ('city', 'Kano'), ('address', 'naibawa maikalwa')])"
      ]
     },
     "execution_count": 19,
     "metadata": {},
     "output_type": "execute_result"
    }
   ],
   "source": [
    "student.items()"
   ]
  },
  {
   "cell_type": "code",
   "execution_count": 22,
   "metadata": {},
   "outputs": [],
   "source": [
    "del student['address']"
   ]
  },
  {
   "cell_type": "code",
   "execution_count": 23,
   "metadata": {},
   "outputs": [],
   "source": [
    "del dog"
   ]
  }
 ],
 "metadata": {
  "kernelspec": {
   "display_name": "base",
   "language": "python",
   "name": "python3"
  },
  "language_info": {
   "codemirror_mode": {
    "name": "ipython",
    "version": 3
   },
   "file_extension": ".py",
   "mimetype": "text/x-python",
   "name": "python",
   "nbconvert_exporter": "python",
   "pygments_lexer": "ipython3",
   "version": "3.9.13 (main, Aug 25 2022, 23:51:50) [MSC v.1916 64 bit (AMD64)]"
  },
  "orig_nbformat": 4,
  "vscode": {
   "interpreter": {
    "hash": "222965bc068ef7c442cf9d97d39cb219d941bf151a7d2392a0b2c8fb3b71bd3f"
   }
  }
 },
 "nbformat": 4,
 "nbformat_minor": 2
}
