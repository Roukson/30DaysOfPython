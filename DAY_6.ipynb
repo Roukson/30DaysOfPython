{
 "cells": [
  {
   "cell_type": "code",
   "execution_count": 1,
   "metadata": {},
   "outputs": [],
   "source": [
    "empty_tuple = ()\n"
   ]
  },
  {
   "cell_type": "code",
   "execution_count": 10,
   "metadata": {},
   "outputs": [
    {
     "name": "stdout",
     "output_type": "stream",
     "text": [
      "('abdul', 'ibrahim', 'umar', 'aisha', 'fatima', 'khadija')\n"
     ]
    }
   ],
   "source": [
    "brothers = ('abdul', 'ibrahim', 'umar')\n",
    "sisters = ('aisha', 'fatima', 'khadija')\n",
    "tuple_join = brothers + sisters\n",
    "print(tuple_join)"
   ]
  },
  {
   "cell_type": "code",
   "execution_count": 11,
   "metadata": {},
   "outputs": [
    {
     "name": "stdout",
     "output_type": "stream",
     "text": [
      "6\n"
     ]
    }
   ],
   "source": [
    "print(len(tuple_join))"
   ]
  },
  {
   "cell_type": "code",
   "execution_count": 12,
   "metadata": {},
   "outputs": [
    {
     "name": "stdout",
     "output_type": "stream",
     "text": [
      "('abdul', 'ibrahim', 'umar', 'aisha', 'fatima', 'khadija', 'Hussain', 'Hauwa')\n"
     ]
    }
   ],
   "source": [
    "family_members = tuple_join + ('Hussain', 'Hauwa')\n",
    "print(family_members)"
   ]
  },
  {
   "cell_type": "code",
   "execution_count": 4,
   "metadata": {},
   "outputs": [
    {
     "name": "stdout",
     "output_type": "stream",
     "text": [
      "('watermelon', 'guava', 'lemon', 'orange', 'banana', 'Tomato', 'Potato', 'Cabbage', 'Onion', 'Carrot', 'fat', 'flesh', 'blood', 'milk', 'eggs')\n",
      "['watermelon', 'Cabbage', 'eggs']\n"
     ]
    }
   ],
   "source": [
    "fruits = ('watermelon', 'guava', 'lemon', 'orange', 'banana')\n",
    "vegetables =  ('Tomato', 'Potato', 'Cabbage','Onion', 'Carrot')\n",
    "animals_products = ('fat', 'flesh', 'blood', 'milk', 'eggs')\n",
    "\n",
    "food_stuff_tp = fruits + vegetables + animals_products\n",
    "\n",
    "print(food_stuff_tp)\n",
    "\n",
    "food_stuff_tp = list(food_stuff_tp)\n",
    "print(food_stuff_tp[0:15:7])"
   ]
  },
  {
   "cell_type": "code",
   "execution_count": 6,
   "metadata": {},
   "outputs": [
    {
     "name": "stdout",
     "output_type": "stream",
     "text": [
      "['watermelon', 'guava', 'lemon']\n"
     ]
    }
   ],
   "source": [
    "print(food_stuff_tp[0:3]) #slicing the first three items"
   ]
  },
  {
   "cell_type": "code",
   "execution_count": 7,
   "metadata": {},
   "outputs": [
    {
     "name": "stdout",
     "output_type": "stream",
     "text": [
      "['flesh', 'blood', 'milk']\n"
     ]
    }
   ],
   "source": [
    "print(food_stuff_tp[-4:-1]) #slicing the last three items"
   ]
  },
  {
   "cell_type": "code",
   "execution_count": 12,
   "metadata": {},
   "outputs": [
    {
     "ename": "NameError",
     "evalue": "name 'food_stuff_tp' is not defined",
     "output_type": "error",
     "traceback": [
      "\u001b[1;31m---------------------------------------------------------------------------\u001b[0m",
      "\u001b[1;31mNameError\u001b[0m                                 Traceback (most recent call last)",
      "\u001b[1;32m~\\AppData\\Local\\Temp\\ipykernel_3436\\3933410391.py\u001b[0m in \u001b[0;36m<module>\u001b[1;34m\u001b[0m\n\u001b[1;32m----> 1\u001b[1;33m \u001b[1;32mdel\u001b[0m \u001b[0mfood_stuff_tp\u001b[0m\u001b[1;33m\u001b[0m\u001b[1;33m\u001b[0m\u001b[0m\n\u001b[0m",
      "\u001b[1;31mNameError\u001b[0m: name 'food_stuff_tp' is not defined"
     ]
    }
   ],
   "source": [
    "del food_stuff_tp"
   ]
  },
  {
   "cell_type": "code",
   "execution_count": 15,
   "metadata": {},
   "outputs": [
    {
     "data": {
      "text/plain": [
       "True"
      ]
     },
     "execution_count": 15,
     "metadata": {},
     "output_type": "execute_result"
    }
   ],
   "source": [
    "nordic_countries = ('Denmark', 'Finland','Iceland', 'Norway', 'Sweden')\n",
    "'Estonia' in nordic_countries\n",
    "'Iceland' in nordic_countries"
   ]
  }
 ],
 "metadata": {
  "kernelspec": {
   "display_name": "base",
   "language": "python",
   "name": "python3"
  },
  "language_info": {
   "codemirror_mode": {
    "name": "ipython",
    "version": 3
   },
   "file_extension": ".py",
   "mimetype": "text/x-python",
   "name": "python",
   "nbconvert_exporter": "python",
   "pygments_lexer": "ipython3",
   "version": "3.9.13"
  },
  "orig_nbformat": 4,
  "vscode": {
   "interpreter": {
    "hash": "222965bc068ef7c442cf9d97d39cb219d941bf151a7d2392a0b2c8fb3b71bd3f"
   }
  }
 },
 "nbformat": 4,
 "nbformat_minor": 2
}
