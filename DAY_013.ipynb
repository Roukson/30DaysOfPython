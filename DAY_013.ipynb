{
 "cells": [
  {
   "cell_type": "code",
   "execution_count": 1,
   "metadata": {},
   "outputs": [
    {
     "name": "stdout",
     "output_type": "stream",
     "text": [
      "[-4, -3, -2, -1, 0]\n"
     ]
    }
   ],
   "source": [
    "def filter_list():\n",
    "    numbers = [-4, -3, -2, -1, 0, 2, 4, 6]\n",
    "    return [x for x in numbers if x <= 0]\n",
    "print(filter_list())"
   ]
  },
  {
   "cell_type": "code",
   "execution_count": 2,
   "metadata": {},
   "outputs": [
    {
     "name": "stdout",
     "output_type": "stream",
     "text": [
      "[1, 2, 3, 4, 5, 6, 7, 8, 9]\n"
     ]
    }
   ],
   "source": [
    "def flatten_list():\n",
    "    list_of_lists = [[[1, 2, 3]], [[4, 5, 6]], [[7, 8, 9]]]\n",
    "    return [x for sub in list_of_lists for sub2 in sub for x in sub2]\n",
    "print(flatten_list())"
   ]
  },
  {
   "cell_type": "code",
   "execution_count": 3,
   "metadata": {},
   "outputs": [
    {
     "name": "stdout",
     "output_type": "stream",
     "text": [
      "<function generate_list_of_tuples at 0x000000F756FD0C10>\n"
     ]
    }
   ],
   "source": [
    "\n",
    "def generate_list_of_tuples():\n",
    "    list_of_tuples = []\n",
    "    for i in range(11):\n",
    "        list_of_tuples.append((i, i ** 0, i ** 1, i ** 2, i ** 3, i ** 4, i ** 5))\n",
    "    return list_of_tuples\n",
    "print(generate_list_of_tuples)"
   ]
  }
 ],
 "metadata": {
  "kernelspec": {
   "display_name": "base",
   "language": "python",
   "name": "python3"
  },
  "language_info": {
   "codemirror_mode": {
    "name": "ipython",
    "version": 3
   },
   "file_extension": ".py",
   "mimetype": "text/x-python",
   "name": "python",
   "nbconvert_exporter": "python",
   "pygments_lexer": "ipython3",
   "version": "3.9.13"
  },
  "orig_nbformat": 4,
  "vscode": {
   "interpreter": {
    "hash": "222965bc068ef7c442cf9d97d39cb219d941bf151a7d2392a0b2c8fb3b71bd3f"
   }
  }
 },
 "nbformat": 4,
 "nbformat_minor": 2
}
