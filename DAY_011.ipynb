{
 "cells": [
  {
   "cell_type": "markdown",
   "metadata": {},
   "source": [
    "functions"
   ]
  },
  {
   "cell_type": "code",
   "execution_count": 5,
   "metadata": {},
   "outputs": [
    {
     "name": "stdout",
     "output_type": "stream",
     "text": [
      "the sum is:  14\n"
     ]
    }
   ],
   "source": [
    "def add_two_numbers (first_num, second_num):\n",
    "    sum = first_num + second_num\n",
    "    return sum\n",
    "print('the sum is: ', add_two_numbers(7, 7))"
   ]
  },
  {
   "cell_type": "code",
   "execution_count": 8,
   "metadata": {},
   "outputs": [
    {
     "name": "stdout",
     "output_type": "stream",
     "text": [
      "452.15999999999997\n"
     ]
    }
   ],
   "source": [
    "def area_of_circle (r):\n",
    "    PI = 3.14\n",
    "    area = PI * r * r\n",
    "    return area\n",
    "print(area_of_circle(12))"
   ]
  },
  {
   "cell_type": "code",
   "execution_count": 15,
   "metadata": {},
   "outputs": [
    {
     "name": "stdout",
     "output_type": "stream",
     "text": [
      "118\n"
     ]
    }
   ],
   "source": [
    "def sum_nums(*nums):\n",
    "    sum = 0\n",
    "    for num in nums:\n",
    "        sum += num     # same as sum= sum + num \n",
    "    return sum\n",
    "print(sum_nums(15, 38, 65)) # 118"
   ]
  },
  {
   "cell_type": "code",
   "execution_count": 16,
   "metadata": {},
   "outputs": [
    {
     "name": "stdout",
     "output_type": "stream",
     "text": [
      "<class 'int'>\n"
     ]
    }
   ],
   "source": [
    "print(type(sum_nums(2, 3, 5)))"
   ]
  },
  {
   "attachments": {},
   "cell_type": "markdown",
   "metadata": {},
   "source": [
    "The list items are number, because it's return a number type which is integer"
   ]
  },
  {
   "cell_type": "code",
   "execution_count": 74,
   "metadata": {},
   "outputs": [],
   "source": [
    "\n",
    "def check_season(month):\n",
    "    if month in [\"September\", \"October\", \"November\"]:\n",
    "        print(\"Autumn\")\n",
    "    if month in [\"December\", \"January\", \"February\"]:\n",
    "        print(\"Winter\")\n",
    "    if month in [\"March\", \"April\", \"May\"]:\n",
    "        print(\"Spring\")\n",
    "    else:\n",
    "        print(\"Summer\")"
   ]
  },
  {
   "cell_type": "code",
   "execution_count": 1,
   "metadata": {},
   "outputs": [],
   "source": [
    "def calculate_slope(x1, x2, y1, y2):\n",
    "    f = (y2 - y1) / (x2 - x1)\n",
    "    return f"
   ]
  },
  {
   "cell_type": "code",
   "execution_count": 37,
   "metadata": {},
   "outputs": [
    {
     "name": "stdout",
     "output_type": "stream",
     "text": [
      "3\n",
      "5\n",
      "7\n",
      "3\n",
      "5\n",
      "7\n",
      "None\n"
     ]
    }
   ],
   "source": [
    "n = [3, 5, 7]\n",
    "\n",
    "for i in range(0, len(n)):\n",
    "  print(n[i])\n",
    "   \n",
    "def print_list(x):\n",
    "  for i in range(0, len(n)):\n",
    "    print(n[i])\n",
    "\n",
    "print(print_list(n))"
   ]
  },
  {
   "cell_type": "code",
   "execution_count": 57,
   "metadata": {},
   "outputs": [
    {
     "name": "stdout",
     "output_type": "stream",
     "text": [
      "[5, 4, 3, 2, 1]\n"
     ]
    }
   ],
   "source": [
    "reversed1 = [1,2,3,4,5]\n",
    "reversed1.reverse() \n",
    "print(reversed1)\n",
    "\n",
    "def reverse_list():\n",
    "    for i in range(1, len(reversed1)):\n",
    "        print(reversed1[i])\n",
    "    "
   ]
  },
  {
   "cell_type": "code",
   "execution_count": 61,
   "metadata": {},
   "outputs": [
    {
     "name": "stdout",
     "output_type": "stream",
     "text": [
      "['C', 'B', 'A']\n"
     ]
    }
   ],
   "source": [
    "reversed2 = ['A', 'B', 'C'] \n",
    "reversed2.reverse() \n",
    "print(reversed2)\n",
    "\n",
    "def reverse_list():\n",
    "    for i in range(1, len(reversed2)):\n",
    "        print(reversed2[i])"
   ]
  },
  {
   "cell_type": "code",
   "execution_count": 73,
   "metadata": {},
   "outputs": [
    {
     "name": "stdout",
     "output_type": "stream",
     "text": [
      "['B', 'A', 'G']\n",
      "['U', 'T', 'E', 'N', 'S', 'I', 'L', 'S']\n",
      "['C', 'H', 'A', 'I', 'R']\n"
     ]
    }
   ],
   "source": [
    "def capitalize_items(items):\n",
    "    items = list(items.upper())\n",
    "    return items\n",
    "print(capitalize_items(\"bag\"))\n",
    "print(capitalize_items(\"utensils\"))\n",
    "print(capitalize_items(\"chair\"))"
   ]
  }
 ],
 "metadata": {
  "kernelspec": {
   "display_name": "base",
   "language": "python",
   "name": "python3"
  },
  "language_info": {
   "codemirror_mode": {
    "name": "ipython",
    "version": 3
   },
   "file_extension": ".py",
   "mimetype": "text/x-python",
   "name": "python",
   "nbconvert_exporter": "python",
   "pygments_lexer": "ipython3",
   "version": "3.9.13"
  },
  "orig_nbformat": 4,
  "vscode": {
   "interpreter": {
    "hash": "222965bc068ef7c442cf9d97d39cb219d941bf151a7d2392a0b2c8fb3b71bd3f"
   }
  }
 },
 "nbformat": 4,
 "nbformat_minor": 2
}
